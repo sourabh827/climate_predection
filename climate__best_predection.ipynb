{
 "cells": [
  {
   "cell_type": "code",
   "execution_count": 62,
   "id": "ab3df577-43a0-4544-a60b-293b3122b084",
   "metadata": {},
   "outputs": [
    {
     "name": "stdout",
     "output_type": "stream",
     "text": [
      "Linear Regression - Best Params: N/A\n",
      "Linear Regression - Best MSE: 9.33\n",
      "Linear Regression - Accuracy (R2 Score): 95.84%\n",
      "\n",
      "Lasso - Best Params: {'alpha': 0.001}\n",
      "Lasso - Best MSE: 9.36\n",
      "Lasso - Accuracy (R2 Score): 95.84%\n",
      "\n",
      "Ridge - Best Params: {'alpha': 0.001}\n",
      "Ridge - Best MSE: 9.36\n",
      "Ridge - Accuracy (R2 Score): 95.84%\n",
      "\n",
      "ElasticNet - Best Params: {'alpha': 0.001, 'l1_ratio': 0.9}\n",
      "ElasticNet - Best MSE: 9.36\n",
      "ElasticNet - Accuracy (R2 Score): 95.84%\n",
      "\n",
      "SGDRegressor - Best Params: {'alpha': 0.001, 'max_iter': 2000, 'penalty': 'l2'}\n",
      "SGDRegressor - Best MSE: 9.35\n",
      "SGDRegressor - Accuracy (R2 Score): 95.84%\n",
      "\n"
     ]
    }
   ],
   "source": [
    "import pandas as pd\n",
    "import numpy as np\n",
    "import matplotlib.pyplot as plt\n",
    "from sklearn.model_selection import train_test_split\n",
    "from sklearn.preprocessing import StandardScaler\n",
    "from sklearn.metrics import mean_squared_error, r2_score\n",
    "from sklearn.linear_model import LinearRegression, Lasso, Ridge, ElasticNet, SGDRegressor\n",
    "\n",
    "# ----------------- Load and Prepare Data ---------------------\n",
    "data = pd.read_csv(\"D:\\YOUTUBE MODEL\\CLIMATE PREDECTION\\climate_prediction.csv\")\n",
    "data = data.drop(columns='Unnamed: 0')\n",
    "x = data[['Humidity (%)', 'Wind Speed (km/h)', 'Pressure (hPa)', 'Cloud Cover (%)']]\n",
    "y = data['Temperature (°C)']\n",
    "\n",
    "# ----------------- Split Data ---------------------\n",
    "from sklearn.model_selection import train_test_split\n",
    "x_train, x_test, y_train, y_test = train_test_split(x, y, test_size=0.20, random_state=42)\n",
    "\n",
    "# ----------------- Standardize Features ---------------------\n",
    "from sklearn.preprocessing import StandardScaler\n",
    "scaler = StandardScaler()\n",
    "x_train = scaler.fit_transform(x_train)\n",
    "x_test = scaler.transform(x_test)\n",
    "\n",
    "# -----------grid search parameter--------------------\n",
    "param_grid_lasso = {'alpha': [0.001, 0.01, 0.1, 1, 10, 100]}\n",
    "param_grid_ridge = {'alpha': [0.001, 0.01, 0.1, 1, 10, 100]}\n",
    "param_grid_elasticnet = {'alpha': [0.001, 0.01, 0.1, 1, 10], 'l1_ratio': [0.1, 0.3, 0.5, 0.7, 0.9]}\n",
    "param_grid_sgd = {'alpha': [0.0001, 0.001, 0.01, 0.1], 'penalty': ['l2', 'l1', 'elasticnet'], 'max_iter': [1000, 2000]}\n",
    "\n",
    "# -------------------- key (model name) :  value(model function() , para_grid) -------------------\n",
    "models = {\n",
    "    'Linear Regression': LinearRegression(),\n",
    "    'Lasso': (Lasso(), param_grid_lasso),\n",
    "    'Ridge': (Ridge(), param_grid_ridge),\n",
    "    'ElasticNet': (ElasticNet(), param_grid_elasticnet),\n",
    "    'SGDRegressor': (SGDRegressor(), param_grid_sgd)\n",
    "}\n",
    "\n",
    "# --------empty dictionary---------------------\n",
    "best_models = {}\n",
    "\n",
    "# ----------linear model training ----------------------------------------\n",
    "model_1 = LinearRegression()\n",
    "model_1.fit(x_train, y_train)\n",
    "mp1 = model_1.predict(x_train)              #-------mp1 -model_predict_linear\n",
    "mse_linear = mean_squared_error(y_train,mp1)\n",
    "r2_linear = r2_score(y_train, mp1) * 100\n",
    "best_models['Linear Regression'] = {'Best Score (MSE)': mse_linear, 'Accuracy (R2 Score)': r2_linear}\n",
    "\n",
    "# ------------------grid search for other model -----------------------\n",
    "for model_name, model_info in models.items(): #-------------models contain ( key : values)\n",
    "    if model_name  == 'Linear Regression': #(model_name= key)\n",
    "        continue  # Skip as it's already trained\n",
    "    \n",
    "    model, param_grid = model_info #( value = model() ,  para grid)\n",
    "    grid_search = GridSearchCV(estimator=model, param_grid=param_grid, scoring='neg_mean_squared_error', cv=5)\n",
    "    grid_search.fit(x_train, y_train)\n",
    "\n",
    "\n",
    "    # --------------  # Save best parameters and MSE for each model\n",
    "    best_models[model_name] = {\n",
    "        'Best Estimator': grid_search.best_estimator_,\n",
    "        'Best Params': grid_search.best_params_,\n",
    "        'Best Score (MSE)': -grid_search.best_score_,\n",
    "        'Accuracy (R2 Score)': r2_score(y_train, grid_search.predict(x_train)) * 100\n",
    "    }\n",
    "for model_name, model_details in best_models.items():\n",
    "    print(f\"{model_name} - Best Params: {model_details.get('Best Params', 'N/A')}\")\n",
    "    print(f\"{model_name} - Best MSE: {model_details['Best Score (MSE)']:.2f}\")\n",
    "    print(f\"{model_name} - Accuracy (R2 Score): {model_details['Accuracy (R2 Score)']:.2f}%\\n\")"
   ]
  },
  {
   "cell_type": "code",
   "execution_count": null,
   "id": "7cb9f635-6255-469a-9453-494302194b48",
   "metadata": {},
   "outputs": [],
   "source": [
    "# ----------------- Predict Temperature Based on User Input ---------------------\n",
    "print(\"\\nPlease enter the following details to predict the Temperature:\")\n",
    "\n",
    "humidity = float(input(\"Enter Humidity (%): \"))\n",
    "wind_speed = float(input(\"Enter Wind Speed (km/h): \"))\n",
    "pressure = float(input(\"Enter Pressure (hPa): \"))\n",
    "cloud_cover = float(input(\"Enter Cloud Cover (%): \"))\n",
    "\n",
    "# Prepare user input and standardize\n",
    "user_input = pd.DataFrame([[humidity, wind_speed, pressure, cloud_cover]], columns=x.columns)\n",
    "user_input_scaled = scaler.transform(user_input)\n",
    "\n",
    "# Predict temperature (using best model found, for example, Lasso)\n",
    "best_model = best_models['Lasso']['Best Estimator']  # Example: Use Lasso's best estimator for prediction\n",
    "predicted_temp = best_model.predict(user_input_scaled)\n"
   ]
  },
  {
   "cell_type": "code",
   "execution_count": null,
   "id": "a0278173-23ba-450b-9acc-8590a242ac1a",
   "metadata": {},
   "outputs": [],
   "source": []
  },
  {
   "cell_type": "code",
   "execution_count": null,
   "id": "5d57cf13-89fe-4439-9166-2a14a4fbd09d",
   "metadata": {},
   "outputs": [],
   "source": []
  },
  {
   "cell_type": "code",
   "execution_count": null,
   "id": "7d34ed20-10f1-4006-9a9a-9cc6972ebe93",
   "metadata": {},
   "outputs": [],
   "source": []
  },
  {
   "cell_type": "code",
   "execution_count": null,
   "id": "98d5b156-b65b-4e1d-a096-fde70c7b76b7",
   "metadata": {},
   "outputs": [],
   "source": []
  },
  {
   "cell_type": "code",
   "execution_count": null,
   "id": "01a933b0-a004-41b2-ba66-10da072ef484",
   "metadata": {},
   "outputs": [],
   "source": []
  },
  {
   "cell_type": "code",
   "execution_count": null,
   "id": "03769367-c227-4cf2-8b26-87324ebcbed4",
   "metadata": {},
   "outputs": [],
   "source": []
  },
  {
   "cell_type": "code",
   "execution_count": null,
   "id": "eb4703d6-3c30-4241-9cc9-e9102c815f3a",
   "metadata": {},
   "outputs": [],
   "source": []
  },
  {
   "cell_type": "code",
   "execution_count": null,
   "id": "2159e208-9f33-4337-a813-fa0e3ff6e611",
   "metadata": {},
   "outputs": [],
   "source": []
  },
  {
   "cell_type": "code",
   "execution_count": null,
   "id": "6515549e-d869-45dc-ab75-5ed6c5ae53a3",
   "metadata": {},
   "outputs": [],
   "source": []
  },
  {
   "cell_type": "code",
   "execution_count": null,
   "id": "9ea64cba-d720-42b1-853e-abba07774028",
   "metadata": {},
   "outputs": [],
   "source": []
  },
  {
   "cell_type": "code",
   "execution_count": null,
   "id": "dc0ef2c9-0a45-475d-bbb4-bfeb00dfcdd3",
   "metadata": {},
   "outputs": [],
   "source": []
  },
  {
   "cell_type": "code",
   "execution_count": null,
   "id": "60e3b4db-f9cb-49ba-8a97-a3d8cc3a48cd",
   "metadata": {},
   "outputs": [],
   "source": []
  },
  {
   "cell_type": "code",
   "execution_count": null,
   "id": "b1f5515f-2433-4765-bd92-446b1eba814a",
   "metadata": {},
   "outputs": [],
   "source": []
  },
  {
   "cell_type": "code",
   "execution_count": null,
   "id": "91353604-b9a0-45fb-a184-186646df9b8e",
   "metadata": {},
   "outputs": [],
   "source": []
  },
  {
   "cell_type": "code",
   "execution_count": null,
   "id": "5c5fbe38-a251-4c37-a4a4-f3cd7ce7bed0",
   "metadata": {},
   "outputs": [],
   "source": []
  },
  {
   "cell_type": "code",
   "execution_count": null,
   "id": "5d431f6e-6f4d-4b6b-9741-499e914dc076",
   "metadata": {},
   "outputs": [],
   "source": []
  },
  {
   "cell_type": "code",
   "execution_count": null,
   "id": "c0ad4b8f-e5f8-4469-8d2f-ca36cfa9b2b6",
   "metadata": {},
   "outputs": [],
   "source": []
  },
  {
   "cell_type": "code",
   "execution_count": null,
   "id": "4c3afbfe-43ad-471b-8c99-c1cd8b4f2182",
   "metadata": {},
   "outputs": [],
   "source": []
  },
  {
   "cell_type": "code",
   "execution_count": null,
   "id": "198e5384-c331-4919-8b80-026079a2ba20",
   "metadata": {},
   "outputs": [],
   "source": []
  },
  {
   "cell_type": "code",
   "execution_count": null,
   "id": "457fdd01-b1a6-45d1-9eca-f4e6c5b8e3e6",
   "metadata": {},
   "outputs": [],
   "source": []
  },
  {
   "cell_type": "code",
   "execution_count": null,
   "id": "d183a701-9eca-421f-979b-598de64ffb11",
   "metadata": {},
   "outputs": [],
   "source": []
  },
  {
   "cell_type": "code",
   "execution_count": null,
   "id": "4bbf2d9e-2d8d-452a-ba12-4c4aa462d493",
   "metadata": {},
   "outputs": [],
   "source": []
  },
  {
   "cell_type": "code",
   "execution_count": null,
   "id": "e44562b3-0d5c-4feb-8040-6e7b5259847e",
   "metadata": {},
   "outputs": [],
   "source": []
  },
  {
   "cell_type": "code",
   "execution_count": null,
   "id": "aa897b6c-fcdc-4ef5-8e26-5c9cbf46838d",
   "metadata": {},
   "outputs": [],
   "source": []
  },
  {
   "cell_type": "code",
   "execution_count": null,
   "id": "ccaaf5e9-9be4-413d-af83-e13f5014f795",
   "metadata": {},
   "outputs": [],
   "source": []
  },
  {
   "cell_type": "code",
   "execution_count": null,
   "id": "b625aeed-4f7b-456c-b31f-e4f56ca20839",
   "metadata": {},
   "outputs": [],
   "source": []
  },
  {
   "cell_type": "code",
   "execution_count": null,
   "id": "419ccac5-1f4c-46ac-b401-eea759d4011b",
   "metadata": {},
   "outputs": [],
   "source": []
  },
  {
   "cell_type": "code",
   "execution_count": null,
   "id": "ba52aaf1-ff78-4235-8cdc-f791fc358d38",
   "metadata": {},
   "outputs": [],
   "source": []
  },
  {
   "cell_type": "code",
   "execution_count": null,
   "id": "e0b57257-35b9-4572-bad8-bf83ec191d95",
   "metadata": {},
   "outputs": [],
   "source": []
  },
  {
   "cell_type": "code",
   "execution_count": null,
   "id": "aaa9d41c-1397-47ba-9bf4-a1cb3f0e1c74",
   "metadata": {},
   "outputs": [],
   "source": []
  },
  {
   "cell_type": "code",
   "execution_count": null,
   "id": "4f5d3787-2c3c-491e-8ba1-689e22989616",
   "metadata": {},
   "outputs": [],
   "source": []
  },
  {
   "cell_type": "code",
   "execution_count": null,
   "id": "9f7c5ff1-c3cd-438a-9f9c-90ecc206449e",
   "metadata": {},
   "outputs": [],
   "source": []
  },
  {
   "cell_type": "code",
   "execution_count": null,
   "id": "996c8c22-e7e4-4ef3-8c6a-430ce89a7e9c",
   "metadata": {},
   "outputs": [],
   "source": [
    "data"
   ]
  },
  {
   "cell_type": "code",
   "execution_count": null,
   "id": "80829bb2-0080-4cab-b968-3337b3d1c799",
   "metadata": {},
   "outputs": [],
   "source": []
  },
  {
   "cell_type": "code",
   "execution_count": null,
   "id": "ea238b3e-b642-4824-be61-cc34a7817865",
   "metadata": {},
   "outputs": [],
   "source": []
  },
  {
   "cell_type": "code",
   "execution_count": null,
   "id": "750aaab1-4439-403b-ac9c-cdcf130f770e",
   "metadata": {},
   "outputs": [],
   "source": []
  },
  {
   "cell_type": "code",
   "execution_count": null,
   "id": "8121a4aa-9bb6-4f64-bf71-e9f6f559841b",
   "metadata": {},
   "outputs": [],
   "source": []
  },
  {
   "cell_type": "code",
   "execution_count": null,
   "id": "e1cdfd28-203b-43b4-a27a-df8086c63a96",
   "metadata": {},
   "outputs": [],
   "source": []
  },
  {
   "cell_type": "code",
   "execution_count": null,
   "id": "38ef90fd-6ebc-4efa-830c-0e6992bf4ab1",
   "metadata": {},
   "outputs": [],
   "source": []
  },
  {
   "cell_type": "code",
   "execution_count": null,
   "id": "8dc6adcd-5f3a-4c85-a541-01be72ae9ea7",
   "metadata": {},
   "outputs": [],
   "source": []
  },
  {
   "cell_type": "code",
   "execution_count": null,
   "id": "d55d12d5-4ab1-4cc6-9a11-58a88b464493",
   "metadata": {},
   "outputs": [],
   "source": []
  },
  {
   "cell_type": "code",
   "execution_count": null,
   "id": "6da21378-a515-4321-89ea-bd98f8fbbb12",
   "metadata": {},
   "outputs": [],
   "source": []
  },
  {
   "cell_type": "code",
   "execution_count": null,
   "id": "5baeac1a-5dc8-43fa-acf5-806f24c993cf",
   "metadata": {},
   "outputs": [],
   "source": []
  }
 ],
 "metadata": {
  "kernelspec": {
   "display_name": "Python 3 (ipykernel)",
   "language": "python",
   "name": "python3"
  },
  "language_info": {
   "codemirror_mode": {
    "name": "ipython",
    "version": 3
   },
   "file_extension": ".py",
   "mimetype": "text/x-python",
   "name": "python",
   "nbconvert_exporter": "python",
   "pygments_lexer": "ipython3",
   "version": "3.11.7"
  }
 },
 "nbformat": 4,
 "nbformat_minor": 5
}
